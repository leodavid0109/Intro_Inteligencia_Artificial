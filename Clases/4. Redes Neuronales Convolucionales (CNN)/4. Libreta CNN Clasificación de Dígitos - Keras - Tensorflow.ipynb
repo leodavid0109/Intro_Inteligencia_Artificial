{
  "nbformat": 4,
  "nbformat_minor": 0,
  "metadata": {
    "colab": {
      "provenance": []
    },
    "kernelspec": {
      "name": "python3",
      "display_name": "Python 3"
    }
  },
  "cells": [
    {
      "cell_type": "markdown",
      "source": [
        "## Clasificación de Dígitos Manuscritos por medio de una CNN"
      ],
      "metadata": {
        "id": "xxzv6_3Z9Xnj"
      }
    },
    {
      "cell_type": "markdown",
      "metadata": {
        "id": "uUpyK0KV6ord"
      },
      "source": [
        "## Librerías y dataset (mnist)"
      ]
    },
    {
      "cell_type": "markdown",
      "source": [
        "El **mnist** es un conjunto de datos desarrollado por Yann LeCun, Corinna Cortes y Christopher Burges para la evaluación de modelos de aprendizaje de máquinas sobre el problema de la Clasificación de los dígitos escritos a mano, disponible en keras.\n",
        "\n",
        "![Nueve.png](data:image/png;base64,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)\n",
        "![image.png](data:image/png;base64,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)\n",
        "![image.png](data:image/png;base64,iVBORw0KGgoAAAANSUhEUgAAAD0AAAA/CAYAAABTqsDiAAAE1ElEQVRoge2b3Y7SWhTHf/2gpYWhQy2gkTGaGDVeGOKFtz6Cr3SeyZfwRk28UBO9HGRkGEophdLp17mY0IgzHk9yZm/MYf4JF5SGtX6svdfae+2iACV7JnXXDuxCN9D7ohvofdFeQusyjFiWRb1eR9d16vU6AFmWURQFURSxXq8pioKylFM9hUOrqsrz588ZDAbcu3ePwWBAURRMJhPm8zmvX7/mw4cPrFYroigS7Q4gCbrb7fLkyRMeP37My5cvKYqCb9++MZ1Oefv2LV++fCFNU9GuVBIGraoqjUYDy7J4+PAhg8GAbreLqqqoqorrumiaRqfTodPpkOc5QRBIGeLCoBVFwbZtDg4OODo64unTpxiGgape5E7HcdA0Ddd1cV2XMAxFuXJJwrJ3WZakacp6vSYIAk5PTwnDkKIoLt2rKIooN66UUOg4jomiiNFoxNevXxmPx1dCy5bQOp3nOVmWkSQJcRxzfn4u0ty/lrA5vRneZVmyWCw4OzvDdV1ptfifJDTSZVlSliV5nlMUxR8xtEFw9jYMA9M08TyPu3fv4rqu9KR1lYRGWtd1DMOg2WzSbrdpNBr/b2hFUdB1HV3XsW2bVquFZVlb0Kqqcnh4yO3bt/E8j1arhW3bwn8Y4dCGYdBoNHAc50og13Xp9/t0u13a7TbNZrNawIiS8OydJAmz2YyTkxOyLKPdbqNp2oVxXafX67FarVgsFoxGI3zfZzabkee5KNfQgL9EfPGP0I7jXBjTNB48eFBBbzYjjx49QlEUoihC0zSGw6HQDYjQcVQURbWRODk5IQiCS2XLsixarVa1OTFNU/icFr61LIqCT58+MRwOUVWVV69eiTb5W0npnPi+j+/7TCaTrUhvIip7lSa1R6YoSvW66rosSW8M/gpcpqRDb9bju9x4SIX+FbDsH0FKIvuVdhXtvWz230Dvi/YSWnoi29Tosiy3anWr1aLf7xNFEbou1i2p0D8vTH7M3o7jcP/+fYIgqHZhovTHDG/btun1eniex8HBAbZtC2smSI10WZbVkezPNbrX6+G6Lufn5xwdHaEoCuPxmDiOr90PqZHOsowoilgul+R5vrVC03Udy7Kq1pLjONRqNSF+COucXCXP8+h0OoRhyK1btzBN89I9cRwThiGO43B8fMx8Pr92P6QO7+VyyWg0QlXVX7aDTNPkzp07ZFmGYRhC/JAKvV6vOTs7w7ZtsiyTaXpLUud0mqbMZjPCMBTa7fydpM5pwzCqOv3s2bOqLGmaVl3Psow8z9F1nY8fP1ZPJ1znOZhU6NVqxXA4JEkSXrx4QaPRwDTNrblrWRb9fh/XdXn37h2+71fHvdclqXN6c3K5Oa+O4/jS3N5EvlaroWkaqqpee2tpJyuyNE0Zj8eMRiOWy+XWZ5u6LfK5sp10TvI8Z7lcslgsyLJsC26zGRGpnUR6uVzy/v173rx5w2QykW5/J5FOkoTj42PSNJX2lOCP2tnwDoKAWq3GdDrF933q9Tq2bUuxvxPoNE3xfZ+yLDk9PWU8HuN53v8buixL1us1i8WCz58/U6vVaLVaHB4eAhfJbDqd8v379yvL2n+Vwo7+rbN5RrTZbGKaZvV+o6IomM/nJEly7eVrZ9C71B/TLpKpG+h90Q30vugGel/0N/n4Q9LboxSEAAAAAElFTkSuQmCC)"
      ],
      "metadata": {
        "id": "O7fu4SWYUbtH"
      }
    },
    {
      "cell_type": "markdown",
      "source": [],
      "metadata": {
        "id": "tdJzc5mYSpZ3"
      }
    },
    {
      "cell_type": "markdown",
      "source": [
        "## Carga de imágenes y librerias"
      ],
      "metadata": {
        "id": "TnToW6b_S3Cx"
      }
    },
    {
      "cell_type": "code",
      "source": [
        "import matplotlib.pyplot as plt\n",
        "import tensorflow as tf\n",
        "import numpy as np\n",
        "from sklearn.model_selection import train_test_split\n",
        "import pandas as pd\n",
        "import itertools\n",
        "import math\n",
        "import os\n",
        "from sklearn.metrics import confusion_matrix\n",
        "from skimage import io \n",
        "from skimage.transform import rescale, resize, downscale_local_mean\n",
        "from random import randint, choice, choices\n",
        "from tensorflow import keras\n",
        "from PIL import Image\n",
        "from sklearn.metrics import classification_report, accuracy_score, f1_score, recall_score, precision_score\n",
        "from sklearn.metrics import ConfusionMatrixDisplay, confusion_matrix\n",
        "import cv2\n",
        "from tqdm import tqdm\n",
        "from random import shuffle\n",
        "import matplotlib.pyplot as plt\n",
        "import tensorflow as tf\n",
        "from tensorflow.keras import datasets, layers, models\n",
        "from sklearn.utils.class_weight import compute_class_weight\n",
        "import matplotlib.pyplot as plt\n",
        "from keras.models import Sequential\n",
        "from keras.layers import Conv2D, Activation, BatchNormalization\n",
        "\n",
        "from tensorflow.keras.datasets import mnist\n",
        "(X_train, Y_train), (X_valid, Y_valid) = mnist.load_data()"
      ],
      "metadata": {
        "colab": {
          "base_uri": "https://localhost:8080/"
        },
        "id": "BZMs7d8OSvMx",
        "outputId": "5b03e616-0bd3-4079-cc63-a6c9b14dc646"
      },
      "execution_count": 1,
      "outputs": [
        {
          "output_type": "stream",
          "name": "stdout",
          "text": [
            "Downloading data from https://storage.googleapis.com/tensorflow/tf-keras-datasets/mnist.npz\n",
            "11490434/11490434 [==============================] - 0s 0us/step\n"
          ]
        }
      ]
    },
    {
      "cell_type": "markdown",
      "source": [
        "## Tamaño del Dataset"
      ],
      "metadata": {
        "id": "NNLWMCDQVWZH"
      }
    },
    {
      "cell_type": "code",
      "source": [
        "print('MNIST Dataset Shape:')\n",
        "print('X_train: ' + str(X_train.shape))\n",
        "print('Y_train: ' + str(Y_train.shape))\n",
        "print('X_Valid:  '  + str(X_valid.shape))\n",
        "print('Y_Valid:  '  + str(Y_valid.shape))"
      ],
      "metadata": {
        "colab": {
          "base_uri": "https://localhost:8080/"
        },
        "id": "D4IfzfF7VPox",
        "outputId": "bfdd0cf2-1c95-46b7-ce05-6a36fd265d10"
      },
      "execution_count": 2,
      "outputs": [
        {
          "output_type": "stream",
          "name": "stdout",
          "text": [
            "MNIST Dataset Shape:\n",
            "X_train: (60000, 28, 28)\n",
            "Y_train: (60000,)\n",
            "X_Valid:  (10000, 28, 28)\n",
            "Y_Valid:  (10000,)\n"
          ]
        }
      ]
    },
    {
      "cell_type": "markdown",
      "metadata": {
        "id": "22wRkDi863rH"
      },
      "source": [
        "**Tamaño de datasets de entrenamiento y prueba (85,7 % y 14,28 %)**"
      ]
    },
    {
      "cell_type": "code",
      "source": [
        "X_train = X_train/255 \n",
        "X_valid = X_valid/255 "
      ],
      "metadata": {
        "id": "GWhPYJtnV0-4"
      },
      "execution_count": 3,
      "outputs": []
    },
    {
      "cell_type": "code",
      "source": [
        "from matplotlib import pyplot\n",
        "for i in range(9):  \n",
        "  pyplot.subplot(330 + 1 + i)\n",
        "  pyplot.imshow(X_train[i], cmap=pyplot.get_cmap('gray'))\n",
        "  pyplot.show()"
      ],
      "metadata": {
        "colab": {
          "base_uri": "https://localhost:8080/",
          "height": 1000
        },
        "id": "Ft2b65H1WBCm",
        "outputId": "669cacdd-d66a-4951-e2fe-b3237e25020d"
      },
      "execution_count": 4,
      "outputs": [
        {
          "output_type": "display_data",
          "data": {
            "text/plain": [
              "<Figure size 640x480 with 1 Axes>"
            ],
            "image/png": "[encoded data removed]"
          },
          "metadata": {}
        },
        {
          "output_type": "display_data",
          "data": {
            "text/plain": [
              "<Figure size 640x480 with 1 Axes>"
            ],
            "image/png": "[encoded data removed]"
          },
          "metadata": {}
        },
        {
          "output_type": "display_data",
          "data": {
            "text/plain": [
              "<Figure size 640x480 with 1 Axes>"
            ],
            "image/png": "[encoded data removed]"
          },
          "metadata": {}
        },
        {
          "output_type": "display_data",
          "data": {
            "text/plain": [
              "<Figure size 640x480 with 1 Axes>"
            ],
            "image/png": "[encoded data removed]"
          },
          "metadata": {}
        },
        {
          "output_type": "display_data",
          "data": {
            "text/plain": [
              "<Figure size 640x480 with 1 Axes>"
            ],
            "image/png": "[encoded data removed]"
          },
          "metadata": {}
        },
        {
          "output_type": "display_data",
          "data": {
            "text/plain": [
              "<Figure size 640x480 with 1 Axes>"
            ],
            "image/png": "[encoded data removed]"
          },
          "metadata": {}
        },
        {
          "output_type": "display_data",
          "data": {
            "text/plain": [
              "<Figure size 640x480 with 1 Axes>"
            ],
            "image/png": "[encoded data removed]"
          },
          "metadata": {}
        },
        {
          "output_type": "display_data",
          "data": {
            "text/plain": [
              "<Figure size 640x480 with 1 Axes>"
            ],
            "image/png": "[encoded data removed]"
          },
          "metadata": {}
        },
        {
          "output_type": "display_data",
          "data": {
            "text/plain": [
              "<Figure size 640x480 with 1 Axes>"
            ],
            "image/png": "[encoded data removed]"
          },
          "metadata": {}
        }
      ]
    },
    {
      "cell_type": "code",
      "source": [
        "print('MNIST Dataset Shape:')\n",
        "print('X_train: ' + str(X_train.shape))\n",
        "print('Y_train: ' + str(Y_train.shape))\n",
        "print('X_Valid:  '  + str(X_valid.shape))\n",
        "print('Y_Valid:  '  + str(Y_valid.shape))"
      ],
      "metadata": {
        "colab": {
          "base_uri": "https://localhost:8080/"
        },
        "id": "vQdxGMWKWMTf",
        "outputId": "6702cbcf-635c-4b74-a1cb-aa8943a68a50"
      },
      "execution_count": 5,
      "outputs": [
        {
          "output_type": "stream",
          "name": "stdout",
          "text": [
            "MNIST Dataset Shape:\n",
            "X_train: (60000, 28, 28)\n",
            "Y_train: (60000,)\n",
            "X_Valid:  (10000, 28, 28)\n",
            "Y_Valid:  (10000,)\n"
          ]
        }
      ]
    },
    {
      "cell_type": "code",
      "source": [
        "plt.figure()\n",
        "plt.imshow(X_train[18])\n",
        "plt.colorbar()\n",
        "plt.grid(False)\n",
        "plt.show()"
      ],
      "metadata": {
        "colab": {
          "base_uri": "https://localhost:8080/",
          "height": 435
        },
        "id": "f9rOh8W2WaE2",
        "outputId": "f7b54c65-35f5-44ae-aa1a-b26c0aa4106b"
      },
      "execution_count": 6,
      "outputs": [
        {
          "output_type": "display_data",
          "data": {
            "text/plain": [
              "<Figure size 640x480 with 2 Axes>"
            ],
            "image/png": "[encoded data removed]"
          },
          "metadata": {}
        }
      ]
    },
    {
      "cell_type": "markdown",
      "source": [
        "## Clases"
      ],
      "metadata": {
        "id": "jLNljEJyWlZO"
      }
    },
    {
      "cell_type": "code",
      "source": [
        "names=['numero 0','numero 1','numero 2','numero 3','numero 4','numero 5',\n",
        "'numero 6','numero 7','numero 8','numero 9']\n",
        "print(len(names))"
      ],
      "metadata": {
        "colab": {
          "base_uri": "https://localhost:8080/"
        },
        "id": "ie4njVAnWj3u",
        "outputId": "0b98a3e8-8ddc-4b34-a4ca-adae60128df3"
      },
      "execution_count": 7,
      "outputs": [
        {
          "output_type": "stream",
          "name": "stdout",
          "text": [
            "10\n"
          ]
        }
      ]
    },
    {
      "cell_type": "markdown",
      "source": [
        "## Dimensión de las imágenes. Las imagenes tienen un tamaño de 28*28 pixeles, como son en blanco y negro tenemos 1 solo canal de color."
      ],
      "metadata": {
        "id": "Cl1GoVDLWzfO"
      }
    },
    {
      "cell_type": "code",
      "source": [
        "X_train.shape"
      ],
      "metadata": {
        "colab": {
          "base_uri": "https://localhost:8080/"
        },
        "id": "ZFMuWxppWtQ-",
        "outputId": "b1cfd82f-ab4a-423c-8fd2-7d76df253ab3"
      },
      "execution_count": 8,
      "outputs": [
        {
          "output_type": "execute_result",
          "data": {
            "text/plain": [
              "(60000, 28, 28)"
            ]
          },
          "metadata": {},
          "execution_count": 8
        }
      ]
    },
    {
      "cell_type": "markdown",
      "source": [
        "## CNN para el reconocimiento de dígitos manuscritos"
      ],
      "metadata": {
        "id": "jBQvPqO7XFY1"
      }
    },
    {
      "cell_type": "markdown",
      "source": [
        "## Es una CNN de 9 capas, 1 de entrada, 6 capas intermedias y 2 densas."
      ],
      "metadata": {
        "id": "MknXksbhXSBm"
      }
    },
    {
      "cell_type": "code",
      "source": [
        "model_CNN = keras.Sequential([\n",
        "    keras.layers.Input(shape=(28,28,1)),      \n",
        "    #Caracterizacion de las imagenes\n",
        "    keras.layers.Conv2D(32, kernel_size=(3, 3), activation='relu'), \n",
        "    keras.layers.AveragePooling2D(pool_size=(2, 2)),\n",
        "    keras.layers.Conv2D(64, (3, 3), activation='relu'), \n",
        "    keras.layers.AveragePooling2D(pool_size=(2, 2)),\n",
        "    keras.layers.Conv2D(64, (3, 3), activation='relu'),   \n",
        "\n",
        "\n",
        "    #Etapa de clasificacion\n",
        "    keras.layers.Flatten(),     #Aplanar los datos a un vector unidimensional\n",
        "    keras.layers.Dense(64, activation=tf.nn.relu),#Implementza la operación f(z)\n",
        "    \n",
        "    keras.layers.Dense(len(names), activation=tf.nn.softmax)\n",
        "])\n",
        "tf.keras.utils.plot_model(model_CNN, show_shapes=True)"
      ],
      "metadata": {
        "colab": {
          "base_uri": "https://localhost:8080/",
          "height": 976
        },
        "id": "tci7X_DKXAv1",
        "outputId": "9c8ad5f4-20a7-4689-8144-6a73c93bc288"
      },
      "execution_count": 9,
      "outputs": [
        {
          "output_type": "execute_result",
          "data": {
            "image/png": "[encoded data removed]",
            "text/plain": [
              "<IPython.core.display.Image object>"
            ]
          },
          "metadata": {},
          "execution_count": 9
        }
      ]
    },
    {
      "cell_type": "markdown",
      "source": [
        "## Resumen de la CNN"
      ],
      "metadata": {
        "id": "bZb6DPSrXrUm"
      }
    },
    {
      "cell_type": "code",
      "source": [
        "model_CNN.summary()"
      ],
      "metadata": {
        "colab": {
          "base_uri": "https://localhost:8080/"
        },
        "id": "stw8VuFvXugG",
        "outputId": "39e20dc5-433d-45ab-93b8-fc1454bb1703"
      },
      "execution_count": 10,
      "outputs": [
        {
          "output_type": "stream",
          "name": "stdout",
          "text": [
            "Model: \"sequential\"\n",
            "_________________________________________________________________\n",
            " Layer (type)                Output Shape              Param #   \n",
            "=================================================================\n",
            " conv2d (Conv2D)             (None, 26, 26, 32)        320       \n",
            "                                                                 \n",
            " average_pooling2d (AverageP  (None, 13, 13, 32)       0         \n",
            " ooling2D)                                                       \n",
            "                                                                 \n",
            " conv2d_1 (Conv2D)           (None, 11, 11, 64)        18496     \n",
            "                                                                 \n",
            " average_pooling2d_1 (Averag  (None, 5, 5, 64)         0         \n",
            " ePooling2D)                                                     \n",
            "                                                                 \n",
            " conv2d_2 (Conv2D)           (None, 3, 3, 64)          36928     \n",
            "                                                                 \n",
            " flatten (Flatten)           (None, 576)               0         \n",
            "                                                                 \n",
            " dense (Dense)               (None, 64)                36928     \n",
            "                                                                 \n",
            " dense_1 (Dense)             (None, 10)                650       \n",
            "                                                                 \n",
            "=================================================================\n",
            "Total params: 93,322\n",
            "Trainable params: 93,322\n",
            "Non-trainable params: 0\n",
            "_________________________________________________________________\n"
          ]
        }
      ]
    },
    {
      "cell_type": "markdown",
      "source": [
        "## Compilación del Modelo"
      ],
      "metadata": {
        "id": "x6XeG5qyYH7d"
      }
    },
    {
      "cell_type": "code",
      "source": [
        "model_CNN.compile(optimizer='adam',\n",
        "              loss='sparse_categorical_crossentropy',\n",
        "              metrics=['accuracy'])\n",
        "\n",
        "#Relu: Da mejores resultados de exactitud\n",
        "print(\"RELU\")\n",
        "history_relu = model_CNN.fit(X_train,Y_train,\n",
        "                    validation_data=(X_valid, Y_valid),\n",
        "                    epochs=12)\n",
        "print(\"======\")"
      ],
      "metadata": {
        "colab": {
          "base_uri": "https://localhost:8080/"
        },
        "id": "NYaFcVXbxiY-",
        "outputId": "9c645bda-4f17-4018-bdb0-7d3a6b471936"
      },
      "execution_count": null,
      "outputs": [
        {
          "output_type": "stream",
          "name": "stdout",
          "text": [
            "RELU\n",
            "Epoch 1/12\n",
            "1875/1875 [==============================] - 66s 35ms/step - loss: 0.1825 - accuracy: 0.9446 - val_loss: 0.0527 - val_accuracy: 0.9831\n",
            "Epoch 2/12\n",
            "1875/1875 [==============================] - 63s 34ms/step - loss: 0.0539 - accuracy: 0.9833 - val_loss: 0.0417 - val_accuracy: 0.9872\n",
            "Epoch 3/12\n",
            "1875/1875 [==============================] - 64s 34ms/step - loss: 0.0400 - accuracy: 0.9878 - val_loss: 0.0397 - val_accuracy: 0.9869\n",
            "Epoch 4/12\n",
            "1875/1875 [==============================] - 63s 34ms/step - loss: 0.0301 - accuracy: 0.9907 - val_loss: 0.0294 - val_accuracy: 0.9910\n",
            "Epoch 5/12\n",
            "1875/1875 [==============================] - 63s 34ms/step - loss: 0.0238 - accuracy: 0.9923 - val_loss: 0.0285 - val_accuracy: 0.9910\n",
            "Epoch 6/12\n",
            "1875/1875 [==============================] - 64s 34ms/step - loss: 0.0198 - accuracy: 0.9940 - val_loss: 0.0342 - val_accuracy: 0.9902\n",
            "Epoch 7/12\n",
            "1861/1875 [============================>.] - ETA: 0s - loss: 0.0157 - accuracy: 0.9950"
          ]
        }
      ]
    },
    {
      "cell_type": "markdown",
      "source": [
        "## Se realizan 12 epochs, con muy buenos valores de exactitud para el modelo de  CNN"
      ],
      "metadata": {
        "id": "cNIm7GhfEAWG"
      }
    },
    {
      "cell_type": "markdown",
      "source": [
        "## Graficos de Exactitud para Entrenamiento y Validación"
      ],
      "metadata": {
        "id": "hdvdw7DDEjx2"
      }
    },
    {
      "cell_type": "code",
      "source": [
        "history_dict=history_relu.history\n",
        "epochs = range(1, len(history_dict[\"accuracy\"]) + 1)\n",
        "\n",
        "plt.plot(epochs, history_dict[\"accuracy\"])\n",
        "plt.plot(epochs, history_dict[\"val_accuracy\"])\n",
        "plt.legend([\"Train_acc\", \"Test_acc\"])\n",
        "plt.xlabel(\"Epoch\")\n",
        "plt.ylabel(\"Exactitud (Accuracy)\")\n",
        "plt.title(\"Exactitud durante el entrenamiento y la validación\")\n",
        "plt.show()"
      ],
      "metadata": {
        "colab": {
          "base_uri": "https://localhost:8080/",
          "height": 295
        },
        "id": "SaEhhIpymev9",
        "outputId": "063ab336-8c0f-479a-d728-66287d43acf0"
      },
      "execution_count": null,
      "outputs": [
        {
          "output_type": "display_data",
          "data": {
            "text/plain": [
              "<Figure size 432x288 with 1 Axes>"
            ],
            "image/png": "[encoded data removed]"
          },
          "metadata": {
            "needs_background": "light"
          }
        }
      ]
    },
    {
      "cell_type": "markdown",
      "source": [
        "## Nuestro modelo de CNN no se ve afectado por el overfitting."
      ],
      "metadata": {
        "id": "KWLsrgMDFaCm"
      }
    },
    {
      "cell_type": "code",
      "source": [
        "loss_values = history_dict['loss']\n",
        "val_loss_values = history_dict['val_loss']\n",
        "epochs = range(1, len(loss_values) + 1)\n",
        "plt.plot(epochs, loss_values, 'r', label='Pérdida en entrenamiento')\n",
        "plt.plot(epochs, val_loss_values, 'b', label='Pérdida en la Validation')\n",
        "plt.title('Pérdida (loss) en Entrenamiento y en Validación')\n",
        "plt.xlabel('Iteraciones (Epochs)')\n",
        "plt.ylabel('Pérdida (loss)')\n",
        "plt.legend()\n",
        "plt.show()"
      ],
      "metadata": {
        "colab": {
          "base_uri": "https://localhost:8080/",
          "height": 295
        },
        "id": "K-9HQQonngjU",
        "outputId": "e5be3148-1ca1-4b91-9389-1db648df8a8c"
      },
      "execution_count": null,
      "outputs": [
        {
          "output_type": "display_data",
          "data": {
            "text/plain": [
              "<Figure size 432x288 with 1 Axes>"
            ],
            "image/png": "[encoded data removed]"
          },
          "metadata": {
            "needs_background": "light"
          }
        }
      ]
    },
    {
      "cell_type": "markdown",
      "source": [
        "## Es necesario balancear?"
      ],
      "metadata": {
        "id": "PYXCKJZkIiyc"
      }
    },
    {
      "cell_type": "code",
      "source": [
        "class_weights = compute_class_weight(class_weight=\"balanced\", \n",
        "                                     classes=(0,1,2,3,4,5,6,7,8,9),   #Levels de los labels usados.\n",
        "                                     y=Y_train) "
      ],
      "metadata": {
        "id": "uk-HH8P8nPwE"
      },
      "execution_count": null,
      "outputs": []
    },
    {
      "cell_type": "code",
      "source": [
        "class_weights"
      ],
      "metadata": {
        "colab": {
          "base_uri": "https://localhost:8080/"
        },
        "id": "kPsy2HrInT7E",
        "outputId": "edb87005-f6d9-4220-d9cc-29ada94f8ae4"
      },
      "execution_count": null,
      "outputs": [
        {
          "output_type": "execute_result",
          "data": {
            "text/plain": [
              "array([1.01300017, 0.88994364, 1.00704935, 0.97863318, 1.02704553,\n",
              "       1.10680686, 1.01385603, 0.95770152, 1.02546573, 1.00857287])"
            ]
          },
          "metadata": {},
          "execution_count": 36
        }
      ]
    },
    {
      "cell_type": "markdown",
      "source": [
        "## *Viendo los pesos, podemos concluir que no es necesario balancear*"
      ],
      "metadata": {
        "id": "t8OpX5-nIpPb"
      }
    },
    {
      "cell_type": "markdown",
      "source": [
        "## Uso de callbacks"
      ],
      "metadata": {
        "id": "BRC7tZO7JdEb"
      }
    },
    {
      "cell_type": "markdown",
      "source": [
        "## Librerias necesarias\n",
        "Importamos las librerias necesarias para el uso de callbacks"
      ],
      "metadata": {
        "id": "Qo0OLz0OJiFr"
      }
    },
    {
      "cell_type": "code",
      "source": [
        "from pathlib import Path\n",
        "from keras.callbacks import CSVLogger, EarlyStopping, ModelCheckpoint, ReduceLROnPlateau, TensorBoard\n",
        "import datetime\n",
        "\n",
        "def create_callbacks(output_dirs, model_name, stopping_patience, lr_patience, initial_lr):\n",
        "\n",
        "    for output_dir in output_dirs.values():\n",
        "\n",
        "        Path(output_dir).mkdir(parents=True, exist_ok=True)\n",
        "\n",
        "    csv_logger = CSVLogger(os.path.join(output_dirs[\"/training_metrics\"], f\"{model_name}.csv\"))\n",
        "    early_stopping = EarlyStopping(patience=stopping_patience, verbose=1, restore_best_weights=True)\n",
        "    model_checkpoint = ModelCheckpoint(os.path.join(output_dirs[\"/models\"], f\"{model_name}.hdf5\"),\n",
        "        verbose=1,\n",
        "        save_best_only=True\n",
        "    )\n",
        "\n",
        "    # Reduce la tasa de aprendizaje a la mitad (como máximo 5 veces) en caso de no haber \n",
        "    # mejora durante varios \"epochs\".\n",
        "    reduce_lr = ReduceLROnPlateau(factor=0.5, patience=lr_patience, min_lr=initial_lr * (0.5 ** 5))\n",
        "\n",
        "    timestamp = datetime.datetime.now().strftime(\"%d%m%Y_%H%M%S\")\n",
        "    tensorboard = TensorBoard(\n",
        "        os.path.join(output_dirs[\"/tensorboard_logs\"], f'{model_name}_{timestamp}'),\n",
        "        histogram_freq=1,\n",
        "        write_images=True,\n",
        "        write_steps_per_second=True,\n",
        "        profile_batch=(10, 20)\n",
        "    )"
      ],
      "metadata": {
        "id": "en-aW-GgJntr"
      },
      "execution_count": null,
      "outputs": []
    },
    {
      "cell_type": "markdown",
      "source": [
        "## Definicion de callbacks"
      ],
      "metadata": {
        "id": "0X_18uvQJw-7"
      }
    },
    {
      "cell_type": "code",
      "source": [
        "OUTPUT_DIRS = {\n",
        "    \n",
        "    \"/training_metrics\": \".content/drive/MyDrive/IA/training_metrics\",\n",
        "    \"/models\": \".content/drive/MyDrive/IA/models\",\n",
        "    \"/tensorboard_logs\": \".content/drive/MyDrive/IA/tensorboard_logs\"\n",
        "}\n",
        "\n",
        "MODEL_NAME = \"model_ClassDigits\"     \n",
        "STOPPING_PATIENCE = 16  \n",
        "LR_PATIENCE = 8 \n",
        "INITIAL_LR = 0.0001\n",
        "\n",
        "callbacks = create_callbacks(OUTPUT_DIRS, MODEL_NAME, STOPPING_PATIENCE,\n",
        "                             LR_PATIENCE, INITIAL_LR)"
      ],
      "metadata": {
        "id": "UAuJ2BAKJ15j"
      },
      "execution_count": null,
      "outputs": []
    },
    {
      "cell_type": "code",
      "source": [
        "names=['numero 0','numero 1','numero 2','numero 3','numero 4','numero 5',\n",
        "'numero 6','numero 7','numero 8','numero 9']\n",
        "\n",
        "#Uso del callback y balanceo\n",
        "model_CNN = keras.Sequential([\n",
        "    keras.layers.Input(shape=(28,28,1)),     \n",
        "    keras.layers.Conv2D(32, kernel_size=(3, 3), activation='relu'), \n",
        "    keras.layers.AveragePooling2D(pool_size=(2, 2)),\n",
        "    keras.layers.Conv2D(64, (3, 3), activation='relu'),  \n",
        "    keras.layers.AveragePooling2D(pool_size=(2, 2)),\n",
        "    keras.layers.Conv2D(64, (3, 3), activation='relu'),   \n",
        "\n",
        "    #Etapa de clasificacion\n",
        "    keras.layers.Flatten(),     \n",
        "    keras.layers.Dense(64, activation=tf.nn.relu),\n",
        "    #keras.layers.Dropout(0.5),\n",
        "    keras.layers.Dense(len(names), activation=tf.nn.softmax)\n",
        "])\n",
        "tf.keras.utils.plot_model(model_CNN, show_shapes=True)\n",
        "\n",
        "model_CNN.compile(optimizer='adam',\n",
        "              loss='sparse_categorical_crossentropy',\n",
        "              metrics=['accuracy'])\n",
        "\n",
        "#Relu: Da mejores resultados de exactitud en este caso.\n",
        "history_relu = model_CNN.fit(X_train,Y_train,\n",
        "                    validation_data=(X_valid, Y_valid),\n",
        "                    class_weight=dict(enumerate(class_weights)),    \n",
        "                    callbacks=callbacks,        \n",
        "                    epochs=9)"
      ],
      "metadata": {
        "colab": {
          "base_uri": "https://localhost:8080/"
        },
        "id": "iK-vl18CJ_Gb",
        "outputId": "a4252bba-cd4a-4c1e-9163-6ae0f3e5c275"
      },
      "execution_count": null,
      "outputs": [
        {
          "output_type": "stream",
          "name": "stdout",
          "text": [
            "Epoch 1/9\n",
            "1875/1875 [==============================] - 74s 39ms/step - loss: 0.1789 - accuracy: 0.9465 - val_loss: 0.0778 - val_accuracy: 0.9729\n",
            "Epoch 2/9\n",
            "1875/1875 [==============================] - 83s 44ms/step - loss: 0.0544 - accuracy: 0.9829 - val_loss: 0.0474 - val_accuracy: 0.9840\n",
            "Epoch 3/9\n",
            "1875/1875 [==============================] - 73s 39ms/step - loss: 0.0398 - accuracy: 0.9875 - val_loss: 0.0291 - val_accuracy: 0.9908\n",
            "Epoch 4/9\n",
            "1875/1875 [==============================] - 72s 38ms/step - loss: 0.0307 - accuracy: 0.9903 - val_loss: 0.0326 - val_accuracy: 0.9897\n",
            "Epoch 5/9\n",
            "1875/1875 [==============================] - 72s 38ms/step - loss: 0.0248 - accuracy: 0.9922 - val_loss: 0.0262 - val_accuracy: 0.9910\n",
            "Epoch 6/9\n",
            "1875/1875 [==============================] - 81s 43ms/step - loss: 0.0200 - accuracy: 0.9935 - val_loss: 0.0274 - val_accuracy: 0.9912\n",
            "Epoch 7/9\n",
            "1875/1875 [==============================] - 74s 40ms/step - loss: 0.0167 - accuracy: 0.9948 - val_loss: 0.0313 - val_accuracy: 0.9904\n",
            "Epoch 8/9\n",
            "1875/1875 [==============================] - 79s 42ms/step - loss: 0.0140 - accuracy: 0.9955 - val_loss: 0.0263 - val_accuracy: 0.9922\n",
            "Epoch 9/9\n",
            "1875/1875 [==============================] - 69s 37ms/step - loss: 0.0123 - accuracy: 0.9960 - val_loss: 0.0288 - val_accuracy: 0.9923\n"
          ]
        }
      ]
    },
    {
      "cell_type": "markdown",
      "source": [
        "## *Usar callbacks redujo el número de epochs necesarios para compilar la red neuronal, esto es buen indicio ya que ahorramos tiempo y recursos.*"
      ],
      "metadata": {
        "id": "xOYxgSBQKcWL"
      }
    },
    {
      "cell_type": "code",
      "source": [
        "print(x_test.shape)"
      ],
      "metadata": {
        "colab": {
          "base_uri": "https://localhost:8080/"
        },
        "id": "bwQpCXFVO2lQ",
        "outputId": "1ace9c36-7b7e-4179-95fb-059b9084d51c"
      },
      "execution_count": null,
      "outputs": [
        {
          "output_type": "stream",
          "name": "stdout",
          "text": [
            "(10000, 28, 28)\n"
          ]
        }
      ]
    },
    {
      "cell_type": "code",
      "source": [
        "history_dict=history_relu.history\n",
        "print(history_dict.keys())"
      ],
      "metadata": {
        "colab": {
          "base_uri": "https://localhost:8080/"
        },
        "id": "2nK1xaYwQWB4",
        "outputId": "933b0a3e-291c-4f40-8e90-978fb5f7c1ed"
      },
      "execution_count": null,
      "outputs": [
        {
          "output_type": "stream",
          "name": "stdout",
          "text": [
            "dict_keys(['loss', 'accuracy', 'val_loss', 'val_accuracy'])\n"
          ]
        }
      ]
    },
    {
      "cell_type": "markdown",
      "source": [
        "**Primeros 10 números de prueba**"
      ],
      "metadata": {
        "id": "2KIqBOKTQAvw"
      }
    },
    {
      "cell_type": "code",
      "source": [
        "print(y_test[0:10])"
      ],
      "metadata": {
        "colab": {
          "base_uri": "https://localhost:8080/"
        },
        "id": "eKorNosBO_uJ",
        "outputId": "a66c2ae6-eff1-4787-bb5a-f72b54571aab"
      },
      "execution_count": null,
      "outputs": [
        {
          "output_type": "stream",
          "name": "stdout",
          "text": [
            "[7 2 1 0 4 1 4 9 5 9]\n"
          ]
        }
      ]
    },
    {
      "cell_type": "code",
      "source": [
        "predictions = model_CNN.predict(x_test)\n",
        "pruebas = range(10)\n",
        "print(\"predicciones:\")\n",
        "for i in pruebas:\n",
        "  print(np.argmax(predictions[i]))\n",
        "print(\"valores reales:\")\n",
        "for i in pruebas:\n",
        "  print(y_test[i])"
      ],
      "metadata": {
        "colab": {
          "base_uri": "https://localhost:8080/"
        },
        "id": "dH4KNT8MPJqR",
        "outputId": "ae6e73d3-b24d-4103-e256-fd193fb8302a"
      },
      "execution_count": null,
      "outputs": [
        {
          "output_type": "stream",
          "name": "stdout",
          "text": [
            "313/313 [==============================] - 6s 18ms/step\n",
            "predicciones:\n",
            "7\n",
            "2\n",
            "1\n",
            "0\n",
            "4\n",
            "1\n",
            "4\n",
            "9\n",
            "5\n",
            "9\n",
            "valores reales:\n",
            "7\n",
            "2\n",
            "1\n",
            "0\n",
            "4\n",
            "1\n",
            "4\n",
            "9\n",
            "5\n",
            "9\n"
          ]
        }
      ]
    },
    {
      "cell_type": "markdown",
      "source": [
        "## Reporte de Métricas (precisión, sensibilidad, f1-score, exactitud)"
      ],
      "metadata": {
        "id": "DAvFpcvpVB9t"
      }
    },
    {
      "cell_type": "code",
      "source": [
        "decoded_y_test = y_test\n",
        "decoded_predictions = predictions.argmax(axis=1)\n",
        " \n",
        "# Cálculo del reporte de clasificación\n",
        "from sklearn.metrics import classification_report, accuracy_score, f1_score, recall_score, precision_score\n",
        "print(f'Reporte de clasificación:')\n",
        "print(classification_report(decoded_y_test,\n",
        "                            decoded_predictions))"
      ],
      "metadata": {
        "colab": {
          "base_uri": "https://localhost:8080/"
        },
        "id": "4hQ_nL6lUQ4e",
        "outputId": "520568b9-fe89-4d5b-c83d-7bd240555639"
      },
      "execution_count": null,
      "outputs": [
        {
          "output_type": "stream",
          "name": "stdout",
          "text": [
            "Reporte de clasificación:\n",
            "              precision    recall  f1-score   support\n",
            "\n",
            "           0       0.99      0.99      0.99       980\n",
            "           1       0.99      1.00      1.00      1135\n",
            "           2       0.99      0.99      0.99      1032\n",
            "           3       0.99      0.99      0.99      1010\n",
            "           4       1.00      0.99      0.99       982\n",
            "           5       0.99      0.99      0.99       892\n",
            "           6       1.00      0.99      0.99       958\n",
            "           7       0.99      1.00      0.99      1028\n",
            "           8       1.00      0.98      0.99       974\n",
            "           9       0.99      0.99      0.99      1009\n",
            "\n",
            "    accuracy                           0.99     10000\n",
            "   macro avg       0.99      0.99      0.99     10000\n",
            "weighted avg       0.99      0.99      0.99     10000\n",
            "\n"
          ]
        }
      ]
    },
    {
      "cell_type": "markdown",
      "source": [
        "## Cálculo métrica f1-*score*"
      ],
      "metadata": {
        "id": "NK_BMyu9WyYM"
      }
    },
    {
      "cell_type": "code",
      "source": [
        "# Cálculo de F1\n",
        "print(f'F1-micro: {f1_score(decoded_y_test, decoded_predictions, average=\"micro\")}')\n",
        "print(f'F1-macro: {f1_score(decoded_y_test, decoded_predictions, average=\"macro\")}')\n",
        "print(f'F1-weighted: {f1_score(decoded_y_test, decoded_predictions, average=\"weighted\")}')\n",
        " \n",
        "print(f'F1 por clase:')\n",
        "print('----')\n",
        "f1_score_per_class = f1_score(decoded_y_test, decoded_predictions, average=None)\n",
        "for label, score in zip(range(10), f1_score_per_class):\n",
        "    print(f'\\t - F1 para la clase {label}: {score}')\n",
        "print('----')"
      ],
      "metadata": {
        "colab": {
          "base_uri": "https://localhost:8080/"
        },
        "id": "RfTl5u1uVQCm",
        "outputId": "d1edf730-bebe-4c6e-f65b-b61c7d0dd1c1"
      },
      "execution_count": null,
      "outputs": [
        {
          "output_type": "stream",
          "name": "stdout",
          "text": [
            "F1-micro: 0.9924\n",
            "F1-macro: 0.9923281096655667\n",
            "F1-weighted: 0.992400131987305\n",
            "F1 por clase:\n",
            "----\n",
            "\t - F1 para la clase 0: 0.9918450560652395\n",
            "\t - F1 para la clase 1: 0.9951648351648352\n",
            "\t - F1 para la clase 2: 0.992721979621543\n",
            "\t - F1 para la clase 3: 0.9906265416872225\n",
            "\t - F1 para la clase 4: 0.9943906170321265\n",
            "\t - F1 para la clase 5: 0.9893438025799215\n",
            "\t - F1 para la clase 6: 0.9926701570680627\n",
            "\t - F1 para la clase 7: 0.9946627850557982\n",
            "\t - F1 para la clase 8: 0.9917269906928644\n",
            "\t - F1 para la clase 9: 0.9901283316880553\n",
            "----\n"
          ]
        }
      ]
    },
    {
      "cell_type": "markdown",
      "source": [
        "## Cálculo de la métrica Precisión"
      ],
      "metadata": {
        "id": "Nw9T34YeW9Bs"
      }
    },
    {
      "cell_type": "code",
      "source": [
        "# Cálculo de precision\n",
        "print(f'Precision (micro): {precision_score(decoded_y_test, decoded_predictions, average=\"micro\")}')\n",
        "print(f'Precision (macro): {precision_score(decoded_y_test, decoded_predictions, average=\"macro\")}')\n",
        "print(f'Precision (weighted): {precision_score(decoded_y_test, decoded_predictions, average=\"weighted\")}')\n",
        " \n",
        "print(f'Precision por clase:')\n",
        "print('----')\n",
        "precision_score_per_class = precision_score(decoded_y_test, decoded_predictions, average=None)\n",
        "for label, score in zip(range(10), precision_score_per_class):\n",
        "    print(f'\\t - Precision para la clase {label}: {score}')\n",
        "print('----')"
      ],
      "metadata": {
        "colab": {
          "base_uri": "https://localhost:8080/"
        },
        "id": "KtaB12OhVgh9",
        "outputId": "ed61a74b-f167-48e0-c5d5-3615f9c80be9"
      },
      "execution_count": null,
      "outputs": [
        {
          "output_type": "stream",
          "name": "stdout",
          "text": [
            "Precision (micro): 0.9924\n",
            "Precision (macro): 0.9924263317366945\n",
            "Precision (weighted): 0.9924212101968618\n",
            "Precision por clase:\n",
            "----\n",
            "\t - Precision para la clase 0: 0.9908350305498982\n",
            "\t - Precision para la clase 1: 0.9929824561403509\n",
            "\t - Precision para la clase 2: 0.9941690962099126\n",
            "\t - Precision para la clase 3: 0.9872173058013766\n",
            "\t - Precision para la clase 4: 0.9959141981613892\n",
            "\t - Precision para la clase 5: 0.98989898989899\n",
            "\t - Precision para la clase 6: 0.9957983193277311\n",
            "\t - Precision para la clase 7: 0.9922555663117134\n",
            "\t - Precision para la clase 8: 0.9989583333333333\n",
            "\t - Precision para la clase 9: 0.9862340216322517\n",
            "----\n"
          ]
        }
      ]
    },
    {
      "cell_type": "markdown",
      "source": [
        "## Cálculo de la métrica Sensibilidad (Recall)"
      ],
      "metadata": {
        "id": "qlRByr1qXCXc"
      }
    },
    {
      "cell_type": "code",
      "source": [
        "# Cálculo de recall\n",
        "print(f'Recall (micro): {recall_score(decoded_y_test, decoded_predictions, average=\"micro\")}')\n",
        "print(f'Recall (macro): {recall_score(decoded_y_test, decoded_predictions, average=\"macro\")}')\n",
        "print(f'Recall (weighted): {recall_score(decoded_y_test, decoded_predictions, average=\"weighted\")}')\n",
        " \n",
        "print(f'Recall por clase:')\n",
        "print('----')\n",
        "recall_score_per_class = recall_score(decoded_y_test, decoded_predictions, average=None)\n",
        "for label, score in zip(range(10), recall_score_per_class):\n",
        "    print(f'\\t - Recall para la clase {label}: {score}')\n",
        "print('----')"
      ],
      "metadata": {
        "colab": {
          "base_uri": "https://localhost:8080/"
        },
        "id": "CFwYtgkPVuIt",
        "outputId": "bdfd9f33-e452-40d6-dd29-11c5ce27a834"
      },
      "execution_count": null,
      "outputs": [
        {
          "output_type": "stream",
          "name": "stdout",
          "text": [
            "Recall (micro): 0.9924\n",
            "Recall (macro): 0.9922509781213327\n",
            "Recall (weighted): 0.9924\n",
            "Recall por clase:\n",
            "----\n",
            "\t - Recall para la clase 0: 0.9928571428571429\n",
            "\t - Recall para la clase 1: 0.9973568281938326\n",
            "\t - Recall para la clase 2: 0.9912790697674418\n",
            "\t - Recall para la clase 3: 0.994059405940594\n",
            "\t - Recall para la clase 4: 0.9928716904276986\n",
            "\t - Recall para la clase 5: 0.9887892376681614\n",
            "\t - Recall para la clase 6: 0.9895615866388309\n",
            "\t - Recall para la clase 7: 0.9970817120622568\n",
            "\t - Recall para la clase 8: 0.9845995893223819\n",
            "\t - Recall para la clase 9: 0.9940535183349851\n",
            "----\n"
          ]
        }
      ]
    },
    {
      "cell_type": "markdown",
      "source": [
        "## Cálculo de la Exactitud del Modelo de CNN"
      ],
      "metadata": {
        "id": "yU2JO86oXKDE"
      }
    },
    {
      "cell_type": "code",
      "source": [
        "# Cálculo de accuracy\n",
        "print(f'Exactitud (accuracy): {accuracy_score(decoded_y_test, decoded_predictions)}')"
      ],
      "metadata": {
        "colab": {
          "base_uri": "https://localhost:8080/"
        },
        "id": "nVwZju4DV3fl",
        "outputId": "657a05c5-470f-4e32-ce49-d8df5eff5858"
      },
      "execution_count": null,
      "outputs": [
        {
          "output_type": "stream",
          "name": "stdout",
          "text": [
            "Exactitud (accuracy): 0.9924\n"
          ]
        }
      ]
    },
    {
      "cell_type": "markdown",
      "source": [
        "## Matriz de Confusión"
      ],
      "metadata": {
        "id": "pnVwtVQLWnGl"
      }
    },
    {
      "cell_type": "code",
      "source": [
        "import tensorflow as tf\n",
        "matrix = tf.math.confusion_matrix(decoded_y_test, decoded_predictions, num_classes=10, weights=None, dtype=tf.dtypes.int32, name=None)\n",
        "print(matrix)"
      ],
      "metadata": {
        "colab": {
          "base_uri": "https://localhost:8080/"
        },
        "id": "UDOV6bsSWF_1",
        "outputId": "0c848825-d3ab-46ba-ff57-152333712360"
      },
      "execution_count": null,
      "outputs": [
        {
          "output_type": "stream",
          "name": "stdout",
          "text": [
            "tf.Tensor(\n",
            "[[ 973    1    1    0    1    0    0    2    1    1]\n",
            " [   0 1132    0    1    0    0    1    1    0    0]\n",
            " [   0    2 1023    2    0    0    2    3    0    0]\n",
            " [   1    0    3 1004    0    2    0    0    0    0]\n",
            " [   0    0    0    0  975    0    0    0    0    7]\n",
            " [   2    0    0    6    0  882    1    1    0    0]\n",
            " [   3    2    0    1    0    3  948    0    0    1]\n",
            " [   0    2    0    0    0    0    0 1025    0    1]\n",
            " [   3    1    2    3    0    2    0    0  959    4]\n",
            " [   0    0    0    0    3    2    0    1    0 1003]], shape=(10, 10), dtype=int32)\n"
          ]
        }
      ]
    }
  ]
}